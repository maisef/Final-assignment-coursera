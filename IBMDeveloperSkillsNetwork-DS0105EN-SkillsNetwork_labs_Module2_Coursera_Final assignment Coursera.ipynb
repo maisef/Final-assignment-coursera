{
  "metadata": {
    "language_info": {
      "codemirror_mode": {
        "name": "python",
        "version": 3
      },
      "file_extension": ".py",
      "mimetype": "text/x-python",
      "name": "python",
      "nbconvert_exporter": "python",
      "pygments_lexer": "ipython3",
      "version": "3.8"
    },
    "kernelspec": {
      "name": "python",
      "display_name": "Pyolite",
      "language": "python"
    }
  },
  "nbformat_minor": 4,
  "nbformat": 4,
  "cells": [
    {
      "cell_type": "markdown",
      "source": "# My Jupyter Notebook on IBM Watson Studio",
      "metadata": {}
    },
    {
      "cell_type": "markdown",
      "source": "**Maise Cala Figueiroa**\nClinical Data Manager",
      "metadata": {}
    },
    {
      "cell_type": "markdown",
      "source": "_I am interested in data science because data is one of the most promissing career of the century_",
      "metadata": {}
    },
    {
      "cell_type": "markdown",
      "source": "### My code is supposed to make an substraction",
      "metadata": {}
    },
    {
      "cell_type": "code",
      "source": "50-30",
      "metadata": {
        "trusted": true
      },
      "execution_count": 9,
      "outputs": [
        {
          "execution_count": 9,
          "output_type": "execute_result",
          "data": {
            "text/plain": "20"
          },
          "metadata": {}
        }
      ]
    },
    {
      "cell_type": "markdown",
      "source": "| Desert  | color | \n| ------- | ------| \n| Cake    | Green | ",
      "metadata": {}
    },
    {
      "cell_type": "code",
      "source": "",
      "metadata": {},
      "execution_count": null,
      "outputs": []
    }
  ]
}